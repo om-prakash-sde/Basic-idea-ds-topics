{
 "cells": [
  {
   "cell_type": "code",
   "execution_count": null,
   "metadata": {},
   "outputs": [],
   "source": [
    "\"1.Python Program to Create and Traverse Singly linked list.\"\n",
    "\n",
    "class Node:\n",
    "    def __init__(self,data) -> None:\n",
    "        self.data=data\n",
    "        self.next=None\n",
    "\n",
    "class SinglyLinkedList:\n",
    "    def __init__(self) -> None:\n",
    "        self.head=None\n",
    "        self.tail=None\n",
    "\n",
    "    def addNode(self,data):\n",
    "        if self.tail  is None:\n",
    "            self.head=Node(data)\n",
    "            self.tail=self.head\n",
    "        else:\n",
    "            self.tail.next=Node(data)\n",
    "            self.tail=self.tail.next\n",
    "\n",
    "    def display(self):\n",
    "        current = self.head\n",
    "        while current is not None:\n",
    "            print(current.data, end=\" \")\n",
    "            current=current.next\n",
    "        print()\n",
    "\n",
    "s = SinglyLinkedList()\n",
    "n=int(input(\"No. of elements.::\"))\n",
    "for i in range(n):\n",
    "    data=int(input())\n",
    "    s.addNode(data)\n",
    "s.display()"
   ]
  },
  {
   "cell_type": "code",
   "execution_count": 15,
   "metadata": {},
   "outputs": [
    {
     "name": "stdout",
     "output_type": "stream",
     "text": [
      "4 3 \n",
      "1 4 3 \n"
     ]
    }
   ],
   "source": [
    "\"2.Python program to insert a node in linked list.\"\n",
    "\"-> at the beginning of linked list.\"\n",
    "\n",
    "class Node:\n",
    "    def __init__(self,data) -> None:\n",
    "        self.data = data\n",
    "        self.next = None\n",
    "\n",
    "\n",
    "class LinkedList:\n",
    "    def __init__(self) -> None:\n",
    "        self.head = None\n",
    "\n",
    "    def addNode(self,data):  # add node at the beginning3\n",
    "\n",
    "        3\n",
    "        new_node=Node(data)\n",
    "        new_node.next=self.head\n",
    "        self.head=new_node\n",
    "    \n",
    "    def display(self):\n",
    "        if self.head is None:\n",
    "            print(\"LinkedList is empty.\")\n",
    "        else:\n",
    "            n=self.head\n",
    "            while n:\n",
    "                print(n.data,end=\" \")\n",
    "                n=n.next\n",
    "            print()\n",
    "\n",
    "    def pushFirst(self, newElement):\n",
    "        new_node=Node(newElement)\n",
    "        new_node.next=self.head\n",
    "        self.head=new_node\n",
    "\n",
    "s=LinkedList()\n",
    "n=int(input(\"Enter number of elements:::\"))\n",
    "for i in range(0,n):\n",
    "    data =(int(input()))\n",
    "    s.addNode(data)\n",
    "s.display()\n",
    "new_element = int(input())\n",
    "s.pushFirst(new_element)\n",
    "s.display()\n"
   ]
  }
 ],
 "metadata": {
  "kernelspec": {
   "display_name": "Python 3 (ipykernel)",
   "language": "python",
   "name": "python3"
  },
  "language_info": {
   "codemirror_mode": {
    "name": "ipython",
    "version": 3
   },
   "file_extension": ".py",
   "mimetype": "text/x-python",
   "name": "python",
   "nbconvert_exporter": "python",
   "pygments_lexer": "ipython3",
   "version": "3.9.13"
  },
  "orig_nbformat": 4
 },
 "nbformat": 4,
 "nbformat_minor": 2
}
